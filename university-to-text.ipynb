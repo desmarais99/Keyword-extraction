{
 "cells": [
  {
   "cell_type": "code",
   "execution_count": 1,
   "metadata": {},
   "outputs": [],
   "source": [
    "import numpy as np\n",
    "import pandas as pd\n",
    "import os\n",
    "import glob\n",
    "# import nltk\n",
    "# nltk.download('punkt')\n"
   ]
  },
  {
   "cell_type": "code",
   "execution_count": 2,
   "metadata": {},
   "outputs": [],
   "source": [
    "class Course:\n",
    "    TITLE_KEY = 'TitreCours'\n",
    "    DESCRIPTION_KEY = 'DescriptionCours'\n",
    "\n",
    "    @staticmethod\n",
    "    def from_file(file_name):\n",
    "        with open(file_name, 'r') as f:\n",
    "            lines = f.readlines()\n",
    "\n",
    "            return Course(\n",
    "                lines[0].replace(f'{Course.TITLE_KEY}: ', ''),\n",
    "                lines[1].replace(f'{Course.DESCRIPTION_KEY}: ', ''),\n",
    "            )\n",
    "\n",
    "    def __init__(self, title, description):\n",
    "        self.title = title\n",
    "        self.description = description\n",
    "\n",
    "    def __str__(self):\n",
    "        return f'{Course.TITLE_KEY}: {self.title}\\n{Course.DESCRIPTION_KEY}: {self.description}'\n",
    "\n",
    "class University:\n",
    "    def __init__(self, name):\n",
    "        self.name = name\n",
    "        self.__courses = []\n",
    "\n",
    "    def get_courses(self):\n",
    "        if not len(self.__courses):\n",
    "            file_names = glob.glob(os.path.join(self.name, '*.txt'))\n",
    "\n",
    "            for file_name in file_names:\n",
    "                try:\n",
    "                    self.__courses.append(\n",
    "                        Course.from_file(file_name)\n",
    "                    )\n",
    "                except:\n",
    "                    continue\n",
    "\n",
    "        return self.__courses\n",
    "    \n",
    "    def __iter__(self):\n",
    "        for course in self.get_courses():\n",
    "            yield course\n",
    "            \n",
    "    def shuffle(self):\n",
    "        self.get_courses()\n",
    "        np.random.shuffle(self.__courses)\n",
    "\n",
    "    def __len__(self):\n",
    "        return len(self.get_courses())\n",
    "    \n",
    "    def __str__(self):\n",
    "        string = ''\n",
    "        for course in self.get_courses():\n",
    "            string += f'{course}\\n'\n",
    "        \n",
    "        return string\n"
   ]
  },
  {
   "cell_type": "code",
   "execution_count": 3,
   "metadata": {},
   "outputs": [],
   "source": [
    "UNIVERSITY_NAMES = ['HEC', 'Poly', 'UdM', 'UQAM']\n",
    "universities = [University(name) for name in UNIVERSITY_NAMES]\n",
    "\n",
    "descriptions = []\n",
    "for university in universities:\n",
    "    descriptions += list(map(lambda course: course.description, university))\n",
    "    \n",
    "np.random.shuffle(descriptions)\n",
    "corpus = ' '.join(descriptions)\n"
   ]
  },
  {
   "cell_type": "code",
   "execution_count": 4,
   "metadata": {},
   "outputs": [],
   "source": [
    "from nltk.tokenize import word_tokenize"
   ]
  },
  {
   "cell_type": "code",
   "execution_count": 9,
   "metadata": {},
   "outputs": [],
   "source": [
    "tokens = word_tokenize(corpus)"
   ]
  },
  {
   "cell_type": "code",
   "execution_count": 10,
   "metadata": {},
   "outputs": [],
   "source": [
    "with open('words', 'w+') as f:\n",
    "    f.write('\\n'.join(tokens))"
   ]
  }
 ],
 "metadata": {
  "kernelspec": {
   "display_name": "Python 3 (ipykernel)",
   "language": "python",
   "name": "python3"
  },
  "language_info": {
   "codemirror_mode": {
    "name": "ipython",
    "version": 3
   },
   "file_extension": ".py",
   "mimetype": "text/x-python",
   "name": "python",
   "nbconvert_exporter": "python",
   "pygments_lexer": "ipython3",
   "version": "3.9.6"
  }
 },
 "nbformat": 4,
 "nbformat_minor": 4
}
